{
 "cells": [
  {
   "cell_type": "code",
   "execution_count": 14,
   "metadata": {},
   "outputs": [],
   "source": [
    "import numpy as np\n",
    "import matplotlib.pyplot as plt"
   ]
  },
  {
   "cell_type": "code",
   "execution_count": 12,
   "metadata": {},
   "outputs": [],
   "source": [
    "with open('../data/problemsF/FA012_tgt.mdl', 'rb') as f:\n",
    "    buf = f.read()\n",
    "    R = buf[0]\n",
    "    buf = np.frombuffer(buf, dtype=np.uint8, offset=1)\n",
    "\n",
    "def to_volume(buf, R):\n",
    "    arr = np.zeros((R, R, R), np.uint8)\n",
    "    for x in range(R):\n",
    "        for y in range(R):\n",
    "            for z in range(R):\n",
    "                bit = (x * R + y) * R + z\n",
    "                voxel = 0 if (buf[bit // 8] & (1 << (bit & 7))) == 0 else 1\n",
    "                arr[x, y, z] = voxel\n",
    "    return arr\n",
    "\n",
    "arr = to_volume(buf, R)"
   ]
  },
  {
   "cell_type": "code",
   "execution_count": 25,
   "metadata": {},
   "outputs": [
    {
     "data": {
      "image/png": "[encoded data removed]",
      "text/plain": [
       "<Figure size 432x288 with 3 Axes>"
      ]
     },
     "metadata": {},
     "output_type": "display_data"
    }
   ],
   "source": [
    "fig, ax = plt.subplots(1, 3)\n",
    "ax[0].matshow(arr.sum(axis=0)); ax[0].set_ylabel('Y');  ax[0].set_xlabel('Z')\n",
    "ax[1].matshow(arr.sum(axis=1)); ax[1].set_ylabel('X');  ax[1].set_xlabel('Z')\n",
    "ax[2].matshow(arr.sum(axis=2).T); ax[2].set_ylabel('Y');  ax[2].set_xlabel('X')\n",
    "fig.tight_layout()"
   ]
  },
  {
   "cell_type": "code",
   "execution_count": null,
   "metadata": {},
   "outputs": [],
   "source": []
  }
 ],
 "metadata": {
  "kernelspec": {
   "display_name": "Python 3",
   "language": "python",
   "name": "python3"
  },
  "language_info": {
   "codemirror_mode": {
    "name": "ipython",
    "version": 3
   },
   "file_extension": ".py",
   "mimetype": "text/x-python",
   "name": "python",
   "nbconvert_exporter": "python",
   "pygments_lexer": "ipython3",
   "version": "3.6.5"
  }
 },
 "nbformat": 4,
 "nbformat_minor": 2
}
